{
  "nbformat": 4,
  "nbformat_minor": 0,
  "metadata": {
    "colab": {
      "provenance": [],
      "collapsed_sections": [],
      "authorship_tag": "ABX9TyOo2SLFOfB48OKl7j+hWlC0",
      "include_colab_link": true
    },
    "kernelspec": {
      "name": "python3",
      "display_name": "Python 3"
    },
    "language_info": {
      "name": "python"
    }
  },
  "cells": [
    {
      "cell_type": "markdown",
      "metadata": {
        "id": "view-in-github",
        "colab_type": "text"
      },
      "source": [
        "<a href=\"https://colab.research.google.com/github/spatank/GraphRL/blob/main/data_processing.ipynb\" target=\"_parent\"><img src=\"https://colab.research.google.com/assets/colab-badge.svg\" alt=\"Open In Colab\"/></a>"
      ]
    },
    {
      "cell_type": "code",
      "execution_count": 1,
      "metadata": {
        "id": "E_1P2hO6D1js",
        "colab": {
          "base_uri": "https://localhost:8080/"
        },
        "outputId": "68d25ba5-b175-4d3f-b4ed-825916a022fb"
      },
      "outputs": [
        {
          "output_type": "stream",
          "name": "stdout",
          "text": [
            "Mounted at /content/drive\n"
          ]
        }
      ],
      "source": [
        "from google.colab import drive\n",
        "drive.mount('/content/drive')\n",
        "\n",
        "import os\n",
        "os.chdir('/content/drive/My Drive/GraphRL/')"
      ]
    },
    {
      "cell_type": "code",
      "source": [
        "import networkx as nx\n",
        "from tqdm import tqdm"
      ],
      "metadata": {
        "id": "WHYutGEnKEjK"
      },
      "execution_count": 2,
      "outputs": []
    },
    {
      "cell_type": "code",
      "source": [
        "base_path = '/content/drive/My Drive/GraphRL/Networks/Synthetic/'"
      ],
      "metadata": {
        "id": "Y21F2PIRhC6K"
      },
      "execution_count": 3,
      "outputs": []
    },
    {
      "cell_type": "code",
      "source": [
        "parameters = {'N': 20, \n",
        "              'p': 0.4, \n",
        "              'm': 2, \n",
        "              'num_train': 10,\n",
        "              'num_val': 5,\n",
        "              'num_test': 5}\n",
        "\n",
        "N = parameters['N'] # number of nodes\n",
        "p = parameters['p'] # probability of edge creation (Erdos-Renyi)\n",
        "m = parameters['m'] # number of edges from new node (Barabasi-Albert)\n",
        "\n",
        "# build training networks\n",
        "num_train_networks = parameters['num_train']\n",
        "\n",
        "for i in tqdm(range(num_train_networks)):\n",
        "  G_ER = nx.erdos_renyi_graph(n = N, p = p)\n",
        "  path = base_path + 'ER/Train/' + 'net_' + str(i) + '.gml'\n",
        "  nx.write_gml(G_ER, path = path)\n",
        "\n",
        "  G_BA = nx.barabasi_albert_graph(n = N, m = m)\n",
        "  path = base_path + 'BA/Train/' + 'net_' + str(i) + '.gml'\n",
        "  nx.write_gml(G_BA, path = path)\n",
        "  \n",
        "# build validation networks\n",
        "num_val_networks = parameters['num_val']\n",
        "\n",
        "for i in tqdm(range(num_val_networks)):\n",
        "  G_ER = nx.erdos_renyi_graph(n = N, p = p)\n",
        "  path = base_path + 'ER/Val/' + 'net_' + str(i) + '.gml'\n",
        "  nx.write_gml(G_ER, path = path)\n",
        "\n",
        "  G_BA = nx.barabasi_albert_graph(n = N, m = m)\n",
        "  path = base_path + 'BA/Val/' + 'net_' + str(i) + '.gml'\n",
        "  nx.write_gml(G_BA, path = path)\n",
        "\n",
        "# build test networks\n",
        "num_test_networks = parameters['num_val']\n",
        "\n",
        "for i in tqdm(range(num_test_networks)):\n",
        "  G_ER = nx.erdos_renyi_graph(n = N, p = p)\n",
        "  path = base_path + 'ER/Test/' + 'net_' + str(i) + '.gml'\n",
        "  nx.write_gml(G_ER, path = path)\n",
        "\n",
        "  G_BA = nx.barabasi_albert_graph(n = N, m = m)\n",
        "  path = base_path + 'BA/Test/' + 'net_' + str(i) + '.gml'\n",
        "  nx.write_gml(G_BA, path = path)"
      ],
      "metadata": {
        "id": "6TCktj9aKJB8",
        "colab": {
          "base_uri": "https://localhost:8080/"
        },
        "outputId": "e2944c9b-5840-437f-e5f1-0c17427e30fd"
      },
      "execution_count": 4,
      "outputs": [
        {
          "output_type": "stream",
          "name": "stderr",
          "text": [
            "100%|██████████| 10/10 [00:05<00:00,  1.97it/s]\n",
            "100%|██████████| 5/5 [00:02<00:00,  1.96it/s]\n",
            "100%|██████████| 5/5 [00:02<00:00,  1.83it/s]\n"
          ]
        }
      ]
    }
  ]
}